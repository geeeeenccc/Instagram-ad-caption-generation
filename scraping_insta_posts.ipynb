{
  "nbformat": 4,
  "nbformat_minor": 0,
  "metadata": {
    "colab": {
      "provenance": [],
      "gpuType": "T4"
    },
    "kernelspec": {
      "name": "python3",
      "display_name": "Python 3"
    },
    "language_info": {
      "name": "python"
    },
    "accelerator": "GPU"
  },
  "cells": [
    {
      "cell_type": "markdown",
      "source": [
        "# Scraping IG posts using Apify"
      ],
      "metadata": {
        "id": "0BFiLNOMyNmE"
      }
    },
    {
      "cell_type": "code",
      "source": [
        "# Install Apify Client\n",
        "!pip install -qqq apify-client --progress-bar off"
      ],
      "metadata": {
        "id": "kJ_htI_P8rTv"
      },
      "execution_count": null,
      "outputs": []
    },
    {
      "cell_type": "code",
      "source": [
        "import os\n",
        "# import asyncio\n",
        "# import nest_asyncio\n",
        "import re\n",
        "from apify_client import ApifyClient\n",
        "# from apify_client import ApifyClientAsync\n",
        "# from apify_client.clients.resource_clients import TaskClientAsync\n",
        "import json"
      ],
      "metadata": {
        "id": "xSyMOVoI84jC"
      },
      "execution_count": null,
      "outputs": []
    },
    {
      "cell_type": "code",
      "execution_count": null,
      "metadata": {
        "id": "_Bvadxwi8BXh"
      },
      "outputs": [],
      "source": [
        "# Initialize the Apify Client\n",
        "client = ApifyClient('Your_apify_api_key_here')\n",
        "\n",
        "# List of Instagram URLs to scrape(We will use only one after one is done)\n",
        "urls = [\n",
        "    \"https://www.instagram.com/ospreypacks/\"\n",
        "    # \"https://www.instagram.com/everlane/?hl=en\"\n",
        "    # \"https://www.instagram.com/untuckit/\"\n",
        "    # \"https://www.instagram.com/mvmt/?hl=en\"\n",
        "    # \"https://www.instagram.com/summerfridays/\"\n",
        "    # \"https://www.instagram.com/artifactuprising/?hl=en\"\n",
        "    # \"https://www.instagram.com/anthropologie/\"\n",
        "    # \"https://www.instagram.com/victoriassecret/?hl=en\"\n",
        "    # \"https://www.instagram.com/telfarglobal/\"\n",
        "    # \"https://www.instagram.com/brklnbloke/\"\n",
        "    # \"https://www.instagram.com/asos/\"\n",
        "    # \"https://www.instagram.com/fjallravenofficial/\"\n",
        "    # \"https://www.instagram.com/santosbymonica\"\n",
        "    # \"https://www.instagram.com/shop\"\n",
        "]\n",
        "\n",
        "# Container for all scraped items\n",
        "all_items = []\n",
        "\n",
        "# Function to run the scraper for each URL\n",
        "def scrape_instagram(url):\n",
        "    run_input = {\n",
        "        \"searchTerm\": \"\",\n",
        "        \"searchSource\": \"instagram\",\n",
        "        \"inputUrl\": url,\n",
        "        \"resultsLimit\": 200,  # Adjust as necessary\n",
        "        \"resultsType\": \"posts\",\n",
        "    }\n",
        "    # Run the Instagram scraper\n",
        "    run = client.actor('apify/instagram-scraper').call(run_input=run_input)\n",
        "    # Fetch the results from the dataset\n",
        "    items = client.dataset(run['defaultDatasetId']).list_items().items\n",
        "    return items\n",
        "\n",
        "# Scrape each URL and collect the data\n",
        "for url in urls:\n",
        "    items = scrape_instagram(url)\n",
        "    all_items.extend(items)\n",
        "\n",
        "with open('instagram_posts.json', 'w') as f:\n",
        "    json.dump(all_items, f)\n"
      ]
    },
    {
      "cell_type": "code",
      "source": [
        "# Load the data\n",
        "with open('instagram_posts.json') as f:\n",
        "    data = json.load(f)\n",
        "\n",
        "# Extract captions from the posts\n",
        "posts = []\n",
        "for item in data:\n",
        "    if 'caption' in item:\n",
        "        posts.append(item['caption'])\n",
        "    elif 'topPosts' in item:\n",
        "        for post in item['topPosts']:\n",
        "            if 'caption' in post:\n",
        "                posts.append(post['caption'])\n",
        "\n",
        "# Check the number of extracted posts\n",
        "print(f'Number of posts: {len(posts)}')\n",
        "\n",
        "# Save the extracted captions to a new file\n",
        "with open('captions.txt', 'w') as f:\n",
        "    for post in posts:\n",
        "        f.write(post + \"\\n\")\n",
        "\n",
        "# Display the first few captions to verify extraction\n",
        "for caption in posts[:5]:\n",
        "    print(caption)\n",
        "\n"
      ],
      "metadata": {
        "id": "LgZw3pKf8Er9",
        "colab": {
          "base_uri": "https://localhost:8080/"
        },
        "outputId": "036edff2-93d4-4e1b-aa28-300223682218"
      },
      "execution_count": null,
      "outputs": [
        {
          "output_type": "stream",
          "name": "stdout",
          "text": [
            "Number of posts: 2785\n",
            "In 1960, Fjällräven founder Åke Nordin launched the aluminium backpack frame. In 2013, we (re)introduced wood frames, because they have a considerably lower carbon footprint and are just as durable. Find out how they’re made from Sustainable Material & Chemical Specialist, Felix Aejmelaeus-Lindström. It’s the fourth episode of our Ladan Labs video series, where we get into the science of durability, materials and sustainability. \n",
            " \n",
            "#SeeYouOutHere\n",
            "If there’s one question Fjällräven friend, Sofia Johansson (@fjalldrottningen) gets asked a lot, it’s about how to handle hygiene and menstruation while out in nature. So much so, that we asked Sofia to talk us through her top tips and discuss what goes into her hygiene kit. Check out the video via the link in bio \n",
            " \n",
            "#SeeYouOutHere\n",
            "Who inspires you to spend time in nature? We wanted to highlight some of the women who inspire us here at Fjällräven, whether they’re on the trail, leading expeditions or working behind the scenes to make us what we are today. Tell us and tag who inspires you to get out here in the comments!\n",
            "\n",
            "#SeeYouOutHere\n",
            "Looking to get new shorts and tops for the sunny season? Explore our latest arrivals featuring t-shirts made with hemp and organic cotton blends, moisture-wicking sweaters and breezy trekking shorts. All made so you stay comfortable on (and off) the trail. Check them out via the link in bio. \n",
            " \n",
            "#Fjallraven\n",
            "How to handle wet days on the trail? We asked the trekkers from a very rainy Fjällräven Classic Denmark what their best tips were to stay dry and safe when it starts to pour down during a multi-day trek. Find the full video via link in bio for more! \n",
            " \n",
            "#SeeYouOutHere\n"
          ]
        }
      ]
    }
  ]
}